{
  "nbformat": 4,
  "nbformat_minor": 0,
  "metadata": {
    "colab": {
      "provenance": []
    },
    "kernelspec": {
      "name": "python3",
      "display_name": "Python 3"
    },
    "language_info": {
      "name": "python"
    }
  },
  "cells": [
    {
      "cell_type": "markdown",
      "source": [
        "# EC2202 Homework #2 (Due: 1:00 pm, Mar. 24, 2022)"
      ],
      "metadata": {
        "id": "4i_Y_6Mjjlg3"
      }
    },
    {
      "cell_type": "markdown",
      "source": [
        "**Disclaimer**\n",
        "This homework is based on\n",
        "1. [Berkeley CS61A](https://cs61a.org/)\n",
        "2. [Samsung SW Expert Academy](https://swexpertacademy.com/)"
      ],
      "metadata": {
        "id": "EbIb_c3Mju4X"
      }
    },
    {
      "cell_type": "markdown",
      "source": [
        "## Submission Link"
      ],
      "metadata": {
        "id": "0U29o-R0mLkO"
      }
    },
    {
      "cell_type": "markdown",
      "source": [
        "Submit your homework [here](https://docs.google.com/spreadsheets/d/1F_jd9yhYrO2LzEGpHA9cqx263G_s6ApMxjDzWp8eZPw/edit?usp=sharing)"
      ],
      "metadata": {
        "id": "m33Sm8mQmN8s"
      }
    },
    {
      "cell_type": "markdown",
      "source": [
        "## Student Information"
      ],
      "metadata": {
        "id": "or_FSdW2mClU"
      }
    },
    {
      "cell_type": "markdown",
      "source": [
        "* Student ID: 20215133\n",
        "* Name: 유지연"
      ],
      "metadata": {
        "id": "zK2IdssdmHlt"
      }
    },
    {
      "cell_type": "markdown",
      "source": [
        "## Evaluation Code Setting"
      ],
      "metadata": {
        "id": "m3Qvljj8jzD_"
      }
    },
    {
      "cell_type": "markdown",
      "source": [
        "Run the blow to test your implementation :)"
      ],
      "metadata": {
        "id": "9qWTFg1fj10p"
      }
    },
    {
      "cell_type": "code",
      "execution_count": null,
      "metadata": {
        "id": "CVkw9OJkK6V0"
      },
      "outputs": [],
      "source": [
        "import doctest"
      ]
    },
    {
      "cell_type": "markdown",
      "source": [
        "## Q1"
      ],
      "metadata": {
        "id": "iO3oyH5Jj44f"
      }
    },
    {
      "cell_type": "markdown",
      "source": [
        "Implement the function `neighbor_digits`. `neighbor_digits` takes in a positive integer `num` and an optional argument `prev_digit`. `neighbor_digits` outputs the number of digits in `num` that have the same digit to its right or left."
      ],
      "metadata": {
        "id": "lXriDl341Svx"
      }
    },
    {
      "cell_type": "code",
      "source": [
        "def neighbor_digits(num, prev_digit=-1):\n",
        "  \"\"\"\n",
        "  Returns the number of digits in num that have the same digit to its right\n",
        "  or left.\n",
        "  >>> neighbor_digits(111)\n",
        "  3\n",
        "  >>> neighbor_digits(123)\n",
        "  0\n",
        "  >>> neighbor_digits(112)\n",
        "  2\n",
        "  >>> neighbor_digits(1122)\n",
        "  4\n",
        "  \"\"\"\n",
        "  if num<10:\n",
        "    if num == prev_digit:\n",
        "      return 1\n",
        "    else:\n",
        "      return 0\n",
        "  else:\n",
        "    digit = num % 10\n",
        "    left_digit = (num // 10) % 10\n",
        "    if digit == left_digit or digit == prev_digit:\n",
        "      return 1 + neighbor_digits(num//10, digit)\n",
        "    else:\n",
        "      return 0 + neighbor_digits(num//10, digit)\n",
        ""
      ],
      "metadata": {
        "id": "h3n38aHWj8KK"
      },
      "execution_count": null,
      "outputs": []
    },
    {
      "cell_type": "code",
      "source": [
        "doctest.run_docstring_examples(neighbor_digits, globals(), False, __name__)"
      ],
      "metadata": {
        "id": "Wx0Kz6mlj8oz"
      },
      "execution_count": null,
      "outputs": []
    },
    {
      "cell_type": "markdown",
      "source": [
        "## Q2"
      ],
      "metadata": {
        "id": "X88kFjC7j9GI"
      }
    },
    {
      "cell_type": "markdown",
      "source": [
        "Implement the function `has_subseq`, which takes in a number `n` and a \"sequence\" of digits `seq`. The function returns whether `n` contains `seq` as a subsequence, which does not have to be consecutive.\n",
        "\n",
        "For example, `141` contains the sequence `11` because the first digit of the sequence, `1`, is the first digit of `141`, and the next digit of the sequence, `1`, is found later in `141`."
      ],
      "metadata": {
        "id": "za7Fbpgw10CP"
      }
    },
    {
      "cell_type": "code",
      "source": [
        "def has_subseq(n, seq):\n",
        "  \"\"\"\n",
        "  Complete has_subseq, a function which takes in a number n and a \"sequence\"\n",
        "  of digits seq and returns whether n contains seq as a subsequence, which\n",
        "  does not have to be consecutive.\n",
        "\n",
        "  >>> has_subseq(123, 12)\n",
        "  True\n",
        "  >>> has_subseq(141, 11)\n",
        "  True\n",
        "  >>> has_subseq(144, 12)\n",
        "  False\n",
        "  >>> has_subseq(144, 1441)\n",
        "  False\n",
        "  >>> has_subseq(1343412, 134)\n",
        "  True\n",
        "  \"\"\"\n",
        "  if n == seq:\n",
        "    return True\n",
        "  if n < seq:\n",
        "    return False\n",
        "  if ((seq % 10) == (n % 10)):\n",
        "    return has_subseq(n // 10, seq) or has_subseq(n // 10, seq // 10)\n",
        "  else:\n",
        "    return has_subseq(n // 10, seq)"
      ],
      "metadata": {
        "id": "_IpDNFWVj-L6"
      },
      "execution_count": null,
      "outputs": []
    },
    {
      "cell_type": "code",
      "source": [
        "doctest.run_docstring_examples(has_subseq, globals(), False, __name__)"
      ],
      "metadata": {
        "id": "NK1Tx4f3j-Xg"
      },
      "execution_count": null,
      "outputs": []
    },
    {
      "cell_type": "markdown",
      "source": [
        "## Q3"
      ],
      "metadata": {
        "id": "w3C8Al6a3kA9"
      }
    },
    {
      "cell_type": "markdown",
      "source": [
        "Pascal's triangle gives the coefficients of a binomial expansion; if you expand the expression `(a + b) ** n`, all coefficients will be found on the `n`th row of the triangle, and the coefficient of the `i`th term will be at the `i`th column.\n",
        "\n",
        "Here's a part of the Pascal's trangle:\n",
        "\n",
        "1\n",
        "\n",
        "1 1\n",
        "\n",
        "1 2 1\n",
        "\n",
        "1 3 3 1\n",
        "\n",
        "1 4 6 4 1\n",
        "\n",
        "Every number in Pascal's triangle is defined as the sum of the item above it and the item above and to the left of it. Rows and columns are zero-indexed; that is, the first row is row 0 instead of 1 and the first column is column 0 instead of column 1. For example, the item at row 2, column 1 in Pascal's triangle is 2.\n",
        "\n",
        "Now, define the procedure `pascal(row, column)` which takes a row and a column, and finds the value of the item at that position in Pascal's triangle. Note that Pascal's triangle is only defined at certain areas; use `0` if the item does not exist. For the purposes of this question, you may also assume that `row >= 0` and `column >= 0`."
      ],
      "metadata": {
        "id": "x2nCrzXv3lMf"
      }
    },
    {
      "cell_type": "code",
      "source": [
        "def pascal(row, column):\n",
        "  \"\"\"Returns the value of the item in Pascal's Triangle\n",
        "  whose position is specified by row and column.\n",
        "  >>> pascal(0, 0)\n",
        "  1\n",
        "  >>> pascal(0, 5)\t# Empty entry; outside of Pascal's Triangle\n",
        "  0\n",
        "  >>> pascal(3, 2)\t# Row 3 (1 3 3 1), Column 2\n",
        "  3\n",
        "  >>> pascal(4, 2)     # Row 4 (1 4 6 4 1), Column 2\n",
        "  6\n",
        "  \"\"\"\n",
        "  if row<column:\n",
        "      return 0\n",
        "  else:\n",
        "    if (row == column) or (column == 0 or row == 0):\n",
        "        return 1\n",
        "    else:\n",
        "       return pascal(row, column-1) + pascal(row-1, column)"
      ],
      "metadata": {
        "id": "B4rpDXV-31ST"
      },
      "execution_count": null,
      "outputs": []
    },
    {
      "cell_type": "code",
      "source": [
        "doctest.run_docstring_examples(pascal, globals(), False, __name__)"
      ],
      "metadata": {
        "id": "LAtsHIpF33zl",
        "colab": {
          "base_uri": "https://localhost:8080/"
        },
        "outputId": "06e2f703-863d-4cf9-d394-0cd26bc6a54a"
      },
      "execution_count": null,
      "outputs": [
        {
          "output_type": "stream",
          "name": "stdout",
          "text": [
            "**********************************************************************\n",
            "File \"__main__\", line 8, in __main__\n",
            "Failed example:\n",
            "    pascal(3, 2)      # Row 3 (1 3 3 1), Column 2\n",
            "Expected:\n",
            "    3\n",
            "Got:\n",
            "    4\n",
            "**********************************************************************\n",
            "File \"__main__\", line 10, in __main__\n",
            "Failed example:\n",
            "    pascal(4, 2)     # Row 4 (1 4 6 4 1), Column 2\n",
            "Expected:\n",
            "    6\n",
            "Got:\n",
            "    8\n"
          ]
        }
      ]
    },
    {
      "cell_type": "markdown",
      "source": [
        "## Q4"
      ],
      "metadata": {
        "id": "wxUaLpTWj-w0"
      }
    },
    {
      "cell_type": "markdown",
      "source": [
        "Given a positive integer `change`, a set of coins makes change for `change` if the sum of the values of the coins is `change`. Here we will use standard US Coin values: 1, 5, 10, 25. For example, the following sets make change for 15:\n",
        "\n",
        "- 15 1-cent coins\n",
        "- 10 1-cent, 1 5-cent coins\n",
        "- 5 1-cent, 2 5-cent coins\n",
        "- 5 1-cent, 1 10-cent coins\n",
        "- 3 5-cent coins\n",
        "- 1 5-cent, 1 10-cent coin\n",
        "Thus, there are 6 ways to make change for 15. Write a **recursive** function `count_coins` that takes a positive integer `change` and returns the number of ways to make `change` for change using coins.\n",
        "\n",
        "You can use either of the functions given to you:\n",
        "\n",
        "- `get_larger_coin` will return the next larger coin denomination from the input, i.e. `get_larger_coin(5)` is 10.\n",
        "- `get_smaller_coin` will return the next smaller coin denomination from the input, i.e. `get_smaller_coin(5)` is 1.\n",
        "\n",
        "There are two main ways in which you can approach this problem. One way uses `get_larger_coin`, and another uses `get_smaller_coin`.\n",
        "\n",
        "Important: Use recursion; the tests will fail if you use loops."
      ],
      "metadata": {
        "id": "xIq0s-V02VJ_"
      }
    },
    {
      "cell_type": "code",
      "source": [
        "def get_larger_coin(coin):\n",
        "  \"\"\"Returns the next larger coin in order.\n",
        "  >>> get_larger_coin(1)\n",
        "  5\n",
        "  >>> get_larger_coin(5)\n",
        "  10\n",
        "  >>> get_larger_coin(10)\n",
        "  25\n",
        "  >>> get_larger_coin(2) # Other values return None\n",
        "  \"\"\"\n",
        "  if coin == 1:\n",
        "    return 5\n",
        "  elif coin == 5:\n",
        "    return 10\n",
        "  elif coin == 10:\n",
        "    return 25\n",
        "\n",
        "def get_smaller_coin(coin):\n",
        "  \"\"\"Returns the next smaller coin in order.\n",
        "  >>> get_smaller_coin(25)\n",
        "  10\n",
        "  >>> get_smaller_coin(10)\n",
        "  5\n",
        "  >>> get_smaller_coin(5)\n",
        "  1\n",
        "  >>> get_smaller_coin(2) # Other values return None\n",
        "  \"\"\"\n",
        "  if coin == 25:\n",
        "    return 10\n",
        "  elif coin == 10:\n",
        "    return 5\n",
        "  elif coin == 5:\n",
        "    return 1\n",
        "\n",
        "def count_coins(change):\n",
        "  \"\"\"Return the number of ways to make change using coins of value of 1, 5, 10, 25.\n",
        "  >>> count_coins(15)\n",
        "  6\n",
        "  >>> count_coins(10)\n",
        "  4\n",
        "  >>> count_coins(20)\n",
        "  9\n",
        "  >>> count_coins(100) # How many ways to make change for a dollar?\n",
        "  242\n",
        "  >>> count_coins(200)\n",
        "  1463\n",
        "  \"\"\"\n",
        "  wayNum = 0\n",
        "  if change == 1:\n",
        "    return 1\n",
        "  else:\n",
        "    wayNum = wayNum + count_coins(get_smaller_coin(change))"
      ],
      "metadata": {
        "id": "CaRLRWz0kACi"
      },
      "execution_count": null,
      "outputs": []
    },
    {
      "cell_type": "code",
      "source": [
        "doctest.run_docstring_examples(count_coins, globals(), False, __name__)"
      ],
      "metadata": {
        "id": "V2llwTxykANn",
        "colab": {
          "base_uri": "https://localhost:8080/"
        },
        "outputId": "007351dc-c3ba-44b5-ade1-97a77463c5d6"
      },
      "execution_count": null,
      "outputs": [
        {
          "output_type": "stream",
          "name": "stderr",
          "text": [
            "\n",
            "PYDEV DEBUGGER WARNING:\n",
            "sys.settrace() should not be used when the debugger is being used.\n",
            "This may cause the debugger to stop working correctly.\n",
            "If this is needed, please check: \n",
            "http://pydev.blogspot.com/2007/06/why-cant-pydev-debugger-work-with.html\n",
            "to see how to restore the debug tracing back correctly.\n",
            "Call Location:\n",
            "  File \"/usr/lib/python3.7/doctest.py\", line 1487, in run\n",
            "    sys.settrace(save_trace)\n",
            "\n"
          ]
        },
        {
          "output_type": "stream",
          "name": "stdout",
          "text": [
            "**********************************************************************\n",
            "File \"__main__\", line 37, in __main__\n",
            "Failed example:\n",
            "    count_coins(15)\n",
            "Exception raised:\n",
            "    Traceback (most recent call last):\n",
            "      File \"/usr/lib/python3.7/doctest.py\", line 1337, in __run\n",
            "        compileflags, 1), test.globs)\n",
            "      File \"<doctest __main__[0]>\", line 1, in <module>\n",
            "        count_coins(15)\n",
            "      File \"<ipython-input-3-e924a9153860>\", line 52, in count_coins\n",
            "        wayNum = wayNum + count_coins(get_smaller_coin(change))\n",
            "      File \"<ipython-input-3-e924a9153860>\", line 52, in count_coins\n",
            "        wayNum = wayNum + count_coins(get_smaller_coin(change))\n",
            "      File \"<ipython-input-3-e924a9153860>\", line 52, in count_coins\n",
            "        wayNum = wayNum + count_coins(get_smaller_coin(change))\n",
            "      [Previous line repeated 961 more times]\n",
            "      File \"<ipython-input-3-e924a9153860>\", line 28, in get_smaller_coin\n",
            "        if coin == 25:\n",
            "    RecursionError: maximum recursion depth exceeded in comparison\n",
            "**********************************************************************\n",
            "File \"__main__\", line 39, in __main__\n",
            "Failed example:\n",
            "    count_coins(10)\n",
            "Exception raised:\n",
            "    Traceback (most recent call last):\n",
            "      File \"/usr/lib/python3.7/doctest.py\", line 1337, in __run\n",
            "        compileflags, 1), test.globs)\n",
            "      File \"<doctest __main__[1]>\", line 1, in <module>\n",
            "        count_coins(10)\n",
            "      File \"<ipython-input-3-e924a9153860>\", line 52, in count_coins\n",
            "        wayNum = wayNum + count_coins(get_smaller_coin(change))\n",
            "    TypeError: unsupported operand type(s) for +: 'int' and 'NoneType'\n",
            "**********************************************************************\n",
            "File \"__main__\", line 41, in __main__\n",
            "Failed example:\n",
            "    count_coins(20)\n",
            "Exception raised:\n",
            "    Traceback (most recent call last):\n",
            "      File \"/usr/lib/python3.7/doctest.py\", line 1337, in __run\n",
            "        compileflags, 1), test.globs)\n",
            "      File \"<doctest __main__[2]>\", line 1, in <module>\n",
            "        count_coins(20)\n",
            "      File \"<ipython-input-3-e924a9153860>\", line 52, in count_coins\n",
            "        wayNum = wayNum + count_coins(get_smaller_coin(change))\n",
            "      File \"<ipython-input-3-e924a9153860>\", line 52, in count_coins\n",
            "        wayNum = wayNum + count_coins(get_smaller_coin(change))\n",
            "      File \"<ipython-input-3-e924a9153860>\", line 52, in count_coins\n",
            "        wayNum = wayNum + count_coins(get_smaller_coin(change))\n",
            "      [Previous line repeated 961 more times]\n",
            "      File \"<ipython-input-3-e924a9153860>\", line 28, in get_smaller_coin\n",
            "        if coin == 25:\n",
            "    RecursionError: maximum recursion depth exceeded in comparison\n",
            "**********************************************************************\n",
            "File \"__main__\", line 43, in __main__\n",
            "Failed example:\n",
            "    count_coins(100) # How many ways to make change for a dollar?\n",
            "Exception raised:\n",
            "    Traceback (most recent call last):\n",
            "      File \"/usr/lib/python3.7/doctest.py\", line 1337, in __run\n",
            "        compileflags, 1), test.globs)\n",
            "      File \"<doctest __main__[3]>\", line 1, in <module>\n",
            "        count_coins(100) # How many ways to make change for a dollar?\n",
            "      File \"<ipython-input-3-e924a9153860>\", line 52, in count_coins\n",
            "        wayNum = wayNum + count_coins(get_smaller_coin(change))\n",
            "      File \"<ipython-input-3-e924a9153860>\", line 52, in count_coins\n",
            "        wayNum = wayNum + count_coins(get_smaller_coin(change))\n",
            "      File \"<ipython-input-3-e924a9153860>\", line 52, in count_coins\n",
            "        wayNum = wayNum + count_coins(get_smaller_coin(change))\n",
            "      [Previous line repeated 961 more times]\n",
            "      File \"<ipython-input-3-e924a9153860>\", line 28, in get_smaller_coin\n",
            "        if coin == 25:\n",
            "    RecursionError: maximum recursion depth exceeded in comparison\n",
            "**********************************************************************\n",
            "File \"__main__\", line 45, in __main__\n",
            "Failed example:\n",
            "    count_coins(200)\n",
            "Exception raised:\n",
            "    Traceback (most recent call last):\n",
            "      File \"/usr/lib/python3.7/doctest.py\", line 1337, in __run\n",
            "        compileflags, 1), test.globs)\n",
            "      File \"<doctest __main__[4]>\", line 1, in <module>\n",
            "        count_coins(200)\n",
            "      File \"<ipython-input-3-e924a9153860>\", line 52, in count_coins\n",
            "        wayNum = wayNum + count_coins(get_smaller_coin(change))\n",
            "      File \"<ipython-input-3-e924a9153860>\", line 52, in count_coins\n",
            "        wayNum = wayNum + count_coins(get_smaller_coin(change))\n",
            "      File \"<ipython-input-3-e924a9153860>\", line 52, in count_coins\n",
            "        wayNum = wayNum + count_coins(get_smaller_coin(change))\n",
            "      [Previous line repeated 961 more times]\n",
            "      File \"<ipython-input-3-e924a9153860>\", line 28, in get_smaller_coin\n",
            "        if coin == 25:\n",
            "    RecursionError: maximum recursion depth exceeded in comparison\n"
          ]
        }
      ]
    },
    {
      "cell_type": "markdown",
      "source": [
        "## Q5"
      ],
      "metadata": {
        "id": "HcaMBTD34uHa"
      }
    },
    {
      "cell_type": "markdown",
      "source": [
        "Let's say we'd like to model a bank account that can handle interactions such as depositing funds or gaining interest on current funds. In the following questions, we will be building off of the `Account` class. Here's our current definition of the class:"
      ],
      "metadata": {
        "id": "MAot1_1j4vfE"
      }
    },
    {
      "cell_type": "code",
      "source": [
        "class Account:\n",
        "  \"\"\"An account has a balance and a holder.\n",
        "  >>> a = Account('John')\n",
        "  >>> a.deposit(10)\n",
        "  10\n",
        "  >>> a.balance\n",
        "  10\n",
        "  >>> a.interest\n",
        "  0.02\n",
        "  >>> a.time_to_retire(10.25) # 10 -> 10.2 -> 10.404\n",
        "  2\n",
        "  >>> a.balance               # balance should not change\n",
        "  10\n",
        "  >>> a.time_to_retire(11)    # 10 -> 10.2 -> ... -> 11.040808032\n",
        "  5\n",
        "  >>> a.time_to_retire(100)\n",
        "  117\n",
        "  \"\"\"\n",
        "  max_withdrawal = 10\n",
        "  interest = 0.02\n",
        "\n",
        "  def __init__(self, account_holder):\n",
        "    self.balance = 0\n",
        "    self.holder = account_holder\n",
        "\n",
        "  def deposit(self, amount):\n",
        "    self.balance = self.balance + amount\n",
        "    return self.balance\n",
        "\n",
        "  def withdraw(self, amount):\n",
        "    if amount > self.balance:\n",
        "      return \"Insufficient funds\"\n",
        "    if amount > self.max_withdrawal:\n",
        "      return \"Can't withdraw that amount\"\n",
        "    self.balance = self.balance - amount\n",
        "    return self.balance\n",
        "\n",
        "  def time_to_retire(self, amount):\n",
        "    \"\"\"Return the number of years until balance would grow to amount.\"\"\"\n",
        "    assert self.balance > 0 and amount > 0 and self.interest > 0\n",
        "    year = 0\n",
        "    money = self.balance\n",
        "    if money < amount:\n",
        "        money = money * (1 + self.interest)\n",
        "        year= year + 1\n",
        "    return year"
      ],
      "metadata": {
        "id": "z_6OOJlA4zKV"
      },
      "execution_count": null,
      "outputs": []
    },
    {
      "cell_type": "markdown",
      "source": [
        "Implement the `time_to_retire` method to the `Account` class. This method takes in an `amount` and returns how many years the holder would need to wait in order for the current `balance` to grow to at least `amount`, assuming that the bank adds `balance` times the `interest` rate to the total balance at the end of every year."
      ],
      "metadata": {
        "id": "5lfr4Xra48ZM"
      }
    },
    {
      "cell_type": "code",
      "source": [
        "doctest.run_docstring_examples(Account, globals(), False, __name__)"
      ],
      "metadata": {
        "id": "nfgKK0iU5TU4",
        "colab": {
          "base_uri": "https://localhost:8080/"
        },
        "outputId": "a437e353-b648-452f-e524-6e3f313c9b02"
      },
      "execution_count": null,
      "outputs": [
        {
          "output_type": "stream",
          "name": "stdout",
          "text": [
            "**********************************************************************\n",
            "File \"__main__\", line ?, in __main__\n",
            "Failed example:\n",
            "    a.time_to_retire(10.25) # 10 -> 10.2 -> 10.404\n",
            "Expected:\n",
            "    2\n",
            "Got:\n",
            "    1\n",
            "**********************************************************************\n",
            "File \"__main__\", line ?, in __main__\n",
            "Failed example:\n",
            "    a.time_to_retire(11)    # 10 -> 10.2 -> ... -> 11.040808032\n",
            "Expected:\n",
            "    5\n",
            "Got:\n",
            "    1\n",
            "**********************************************************************\n",
            "File \"__main__\", line ?, in __main__\n",
            "Failed example:\n",
            "    a.time_to_retire(100)\n",
            "Expected:\n",
            "    117\n",
            "Got:\n",
            "    1\n"
          ]
        }
      ]
    },
    {
      "cell_type": "markdown",
      "source": [
        "## Q6"
      ],
      "metadata": {
        "id": "Xh9FCoy05WI4"
      }
    },
    {
      "cell_type": "markdown",
      "source": [
        "Implement the `FreeChecking` class; it charges a withdraw fee after 2 withdrawals. If a withdrawal is unsuccessful, it still counts towards the number of free withdrawals remaining, but no fee for the withdrawal will be charged."
      ],
      "metadata": {
        "id": "SJlPK6lW5Xqr"
      }
    },
    {
      "cell_type": "code",
      "source": [
        "class FreeChecking(Account):\n",
        "  \"\"\"A bank account that charges for withdrawals, but the first two are free!\n",
        "  >>> ch = FreeChecking('Jack')\n",
        "  >>> ch.balance = 20\n",
        "  >>> ch.withdraw(100)  # First one's free\n",
        "  'Insufficient funds'\n",
        "  >>> ch.withdraw(3)    # And the second\n",
        "  17\n",
        "  >>> ch.balance\n",
        "  17\n",
        "  >>> ch.withdraw(3)    # Ok, two free withdrawals is enough\n",
        "  13\n",
        "  >>> ch.withdraw(3)\n",
        "  9\n",
        "  >>> ch2 = FreeChecking('John')\n",
        "  >>> ch2.balance = 10\n",
        "  >>> ch2.withdraw(3) # No fee\n",
        "  7\n",
        "  >>> ch.withdraw(3)  # ch still charges a fee\n",
        "  5\n",
        "  >>> ch.withdraw(5)  # Not enough to cover fee + withdraw\n",
        "  'Insufficient funds'\n",
        "  \"\"\"\n",
        "  withdraw_fee = 1\n",
        "  free_withdrawals = 2\n",
        "\n",
        "  withdraw_num = 1"
      ],
      "metadata": {
        "id": "DZ4J_4fr5lYY"
      },
      "execution_count": null,
      "outputs": []
    },
    {
      "cell_type": "code",
      "source": [
        "doctest.run_docstring_examples(FreeChecking, globals(), False, __name__)"
      ],
      "metadata": {
        "id": "-vefZZ7o6KZL"
      },
      "execution_count": null,
      "outputs": []
    },
    {
      "cell_type": "markdown",
      "source": [
        "## Q7"
      ],
      "metadata": {
        "id": "RsesrHKX7AEr"
      }
    },
    {
      "cell_type": "markdown",
      "source": [
        "A mint is a place where coins are made. In this question, you'll implement a `Mint` class that can output a `Coin` with the correct year and worth.\n",
        "\n",
        "- Each `Mint` instance has a `year` stamp. The `update` method sets the `year` stamp to the `present_year` class attribute of the `Mint` class.\n",
        "- The `create` method takes a subclass of `Coin` and returns an instance of that class stamped with the `mint`'s year (which may be different from `Mint.present_year` if it has not been updated.)\n",
        "- A `Coin`'s `worth` method returns the `cents` value of the coin plus one extra cent for each year of age beyond 50. A coin's age can be determined by subtracting the coin's year from the `present_year` class attribute of the `Mint` class."
      ],
      "metadata": {
        "id": "qWOhb3fC7BvD"
      }
    },
    {
      "cell_type": "code",
      "source": [
        "class Mint:\n",
        "  \"\"\"A mint creates coins by stamping on years.\n",
        "\n",
        "  The update method sets the mint's stamp to Mint.present_year.\n",
        "\n",
        "  >>> mint = Mint()\n",
        "  >>> mint.year\n",
        "  2021\n",
        "  >>> dime = mint.create(Dime)\n",
        "  >>> dime.year\n",
        "  2021\n",
        "  >>> Mint.present_year = 2101  # Time passes\n",
        "  >>> nickel = mint.create(Nickel)\n",
        "  >>> nickel.year     # The mint has not updated its stamp yet\n",
        "  2021\n",
        "  >>> nickel.worth()  # 5 cents + (80 - 50 years)\n",
        "  35\n",
        "  >>> mint.update()   # The mint's year is updated to 2101\n",
        "  >>> Mint.present_year = 2176     # More time passes\n",
        "  >>> mint.create(Dime).worth()    # 10 cents + (75 - 50 years)\n",
        "  35\n",
        "  >>> Mint().create(Dime).worth()  # A new mint has the current year\n",
        "  10\n",
        "  >>> dime.worth()     # 10 cents + (155 - 50 years)\n",
        "  115\n",
        "  >>> Dime.cents = 20  # Upgrade all dimes!\n",
        "  >>> dime.worth()     # 20 cents + (155 - 50 years)\n",
        "  125\n",
        "  \"\"\"\n",
        "  present_year = 2021\n",
        "\n",
        "  def __init__(self):\n",
        "    self.update()\n",
        "\n",
        "  def create(self, coin):\n",
        "    return coin(self.year)\n",
        "\n",
        "  def update(self):\n",
        "   self.year = Mint.present_year\n",
        "\n",
        "class Coin:\n",
        "  cents = None # will be provided by subclasses, but not by Coin itself\n",
        "\n",
        "  def __init__(self, year):\n",
        "    self.year = year\n",
        "\n",
        "  def worth(self):\n",
        "    if (Mint.present_year - self.year) > 50:\n",
        "          return self.cents + Mint.present_year - self.year - 50\n",
        "    return self.cents\n",
        "\n",
        "class Nickel(Coin):\n",
        "  cents = 5\n",
        "\n",
        "class Dime(Coin):\n",
        "  cents = 10"
      ],
      "metadata": {
        "id": "lXZRKoX07ejp"
      },
      "execution_count": null,
      "outputs": []
    },
    {
      "cell_type": "code",
      "source": [
        "doctest.run_docstring_examples(Mint, globals(), False, __name__)"
      ],
      "metadata": {
        "id": "NpEFdTCg7meG"
      },
      "execution_count": null,
      "outputs": []
    },
    {
      "cell_type": "markdown",
      "source": [
        "## Q8"
      ],
      "metadata": {
        "id": "aX9v392H7m3p"
      }
    },
    {
      "cell_type": "markdown",
      "source": [
        "In this question you'll create a vending machine that only outputs a single product and provides change when needed.\n",
        "\n",
        "Create a class called `VendingMachine` that represents a vending machine for some product. A `VendingMachine` object returns strings describing its interactions. Remember to match exactly the strings in the doctests -- including punctuation and spacing!\n",
        "\n",
        "Fill in the `VendingMachine` class, adding attributes and methods as appropriate, such that its behavior matches the following doctests:"
      ],
      "metadata": {
        "id": "gqY6sE1y7oQ6"
      }
    },
    {
      "cell_type": "code",
      "source": [
        "class VendingMachine:\n",
        "  \"\"\"A vending machine that vends some product for some price.\n",
        "\n",
        "  >>> v = VendingMachine('candy', 10)\n",
        "  >>> v.vend()\n",
        "  'Nothing left to vend. Please restock.'\n",
        "  >>> v.add_funds(15)\n",
        "  'Nothing left to vend. Please restock. Here is your $15.'\n",
        "  >>> v.restock(2)\n",
        "  'Current candy stock: 2'\n",
        "  >>> v.vend()\n",
        "  'You must add $10 more funds.'\n",
        "  >>> v.add_funds(7)\n",
        "  'Current balance: $7'\n",
        "  >>> v.vend()\n",
        "  'You must add $3 more funds.'\n",
        "  >>> v.add_funds(5)\n",
        "  'Current balance: $12'\n",
        "  >>> v.vend()\n",
        "  'Here is your candy and $2 change.'\n",
        "  >>> v.add_funds(10)\n",
        "  'Current balance: $10'\n",
        "  >>> v.vend()\n",
        "  'Here is your candy.'\n",
        "  >>> v.add_funds(15)\n",
        "  'Nothing left to vend. Please restock. Here is your $15.'\n",
        "\n",
        "  >>> w = VendingMachine('soda', 2)\n",
        "  >>> w.restock(3)\n",
        "  'Current soda stock: 3'\n",
        "  >>> w.restock(3)\n",
        "  'Current soda stock: 6'\n",
        "  >>> w.add_funds(2)\n",
        "  'Current balance: $2'\n",
        "  >>> w.vend()\n",
        "  'Here is your soda.'\n",
        "  \"\"\"\n",
        "  def __init__():\n",
        ""
      ],
      "metadata": {
        "id": "iA4-XVRi7yLQ"
      },
      "execution_count": null,
      "outputs": []
    },
    {
      "cell_type": "code",
      "source": [
        "doctest.run_docstring_examples(VendingMachine, globals(), False, __name__)"
      ],
      "metadata": {
        "id": "uKKmuKv770Zo"
      },
      "execution_count": null,
      "outputs": []
    },
    {
      "cell_type": "markdown",
      "source": [
        "## Q9 (Optional)"
      ],
      "metadata": {
        "id": "ceYybgBwAs22"
      }
    },
    {
      "cell_type": "markdown",
      "source": [
        "Implement the function `longest_common_subseq` to find the length of the longest common subsequence between two sequences. E.g. Given the strings \"serendipitous\" and \"precipitation\", the longest common subsequence is \"reipito\" and its length is 7."
      ],
      "metadata": {
        "id": "mli5r66eAwLq"
      }
    },
    {
      "cell_type": "code",
      "source": [
        "def longest_common_subseq(seq1, seq2, idx1=0, idx2=0):\n",
        "  \"\"\"\n",
        "  Returns the length of the longest common sequence\n",
        "  between seq1 and seq2\n",
        "  >>> longest_common_subseq('serendipitous', 'precipitation')\n",
        "  7\n",
        "  >>> longest_common_subseq([1, 3, 5, 6, 7, 2, 5, 2, 3], [6, 2, 4, 7, 1, 5, 6, 2, 3])\n",
        "  5\n",
        "  >>> longest_common_subseq('longest', 'stone')\n",
        "  3\n",
        "  >>> longest_common_subseq('asdfwevad', 'opkpoiklklj')\n",
        "  0\n",
        "  >>> longest_common_subseq('dense', 'condensed')\n",
        "  5\n",
        "  >>> longest_common_subseq('', 'opkpoiklklj')\n",
        "  0\n",
        "  >>> longest_common_subseq('', '')\n",
        "  0\n",
        "  >>> longest_common_subseq('abcdef', 'badcfe')\n",
        "  3\n",
        "  \"\"\"\n",
        "  # YOUR CODE HERE"
      ],
      "metadata": {
        "id": "3qyoMbRsA8FH"
      },
      "execution_count": null,
      "outputs": []
    }
  ]
}